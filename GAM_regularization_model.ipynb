{
 "cells": [
  {
   "cell_type": "markdown",
   "metadata": {},
   "source": [
    "Import required libraries"
   ]
  },
  {
   "cell_type": "code",
   "execution_count": 1,
   "metadata": {},
   "outputs": [
    {
     "name": "stderr",
     "output_type": "stream",
     "text": [
      "E:\\spatial\\lib\\site-packages\\rpy2\\robjects\\pandas2ri.py:17: FutureWarning: pandas.core.index is deprecated and will be removed in a future version.  The public classes are available in the top-level namespace.\n",
      "  from pandas.core.index import Index as PandasIndex\n"
     ]
    }
   ],
   "source": [
    "import geopandas as gpd\n",
    "import pandas as pd\n",
    "from shapely.geometry import Point, Polygon, MultiPolygon\n",
    "import matplotlib.pyplot as plt\n",
    "from shapely.ops import cascaded_union\n",
    "import numpy as np\n",
    "from fiona.crs import from_epsg\n",
    "from sklearn.linear_model import LogisticRegression\n",
    "import rpy2.robjects as ro\n",
    "from sklearn.linear_model import LogisticRegression\n",
    "from sklearn.linear_model import RidgeClassifier\n",
    "from sklearn.linear_model import Ridge\n",
    "from sklearn.linear_model import Lasso\n",
    "from sklearn.preprocessing import StandardScaler\n",
    "from sklearn.model_selection import train_test_split\n",
    "from imblearn.over_sampling import SMOTE\n",
    "from sklearn.model_selection import GridSearchCV\n",
    "import rpy2.robjects as ro\n",
    "from rpy2.robjects.packages import importr\n",
    "from rpy2.robjects import r, pandas2ri\n",
    "from rpy2.robjects import Formula\n",
    "pandas2ri.activate()\n",
    "from sklearn import metrics\n",
    "import seaborn as sns\n",
    "import rasterio\n",
    "import glob\n",
    "from pyproj import CRS\n",
    "from fiona.crs import from_epsg\n"
   ]
  },
  {
   "cell_type": "code",
   "execution_count": 2,
   "metadata": {},
   "outputs": [],
   "source": [
    "ro.r('install.packages(\"dismo\", dependencies=TRUE)')\n",
    "ro.r('install.packages(\"raster\", dependencies=TRUE)')\n",
    "ro.r('install.packages(\"shapefiles\", dependencies=TRUE)')\n",
    "ro.r('install.packages(\"rgdal\", dependencies=TRUE)')\n",
    "ro.r('install.packages(\"ggplot2\", dependencies=TRUE)')\n",
    "ro.r('install.packages(\"gamsel\", dependencies=TRUE)')\n",
    "ro.r('install.packages(\"foreign\", dependencies=TRUE)')"
   ]
  },
  {
   "cell_type": "code",
   "execution_count": 4,
   "metadata": {
    "scrolled": true
   },
   "outputs": [],
   "source": [
    "shapefiles = importr(\"shapefiles\")\n",
    "dismo = importr(\"dismo\")\n",
    "rgdal = importr(\"rgdal\")\n",
    "raster = importr(\"raster\")\n",
    "base = importr(\"base\")\n",
    "utils = importr(\"utils\")\n",
    "ggplot2 = importr(\"ggplot2\")\n",
    "gamsel = importr(\"gamsel\")"
   ]
  },
  {
   "cell_type": "code",
   "execution_count": 4,
   "metadata": {
    "scrolled": true
   },
   "outputs": [
    {
     "data": {
      "text/html": [
       "\n",
       "    <span>StrVector with 19 elements.</span>\n",
       "    <table>\n",
       "      <tbody>\n",
       "      <tr>\n",
       "      \n",
       "      <td>\n",
       "        'gamsel'\n",
       "      </td>\n",
       "      \n",
       "      <td>\n",
       "        'mda'\n",
       "      </td>\n",
       "      \n",
       "      <td>\n",
       "        'class'\n",
       "      </td>\n",
       "      \n",
       "      <td>\n",
       "        'foreach'\n",
       "      </td>\n",
       "      \n",
       "      <td>\n",
       "        ...\n",
       "      </td>\n",
       "      \n",
       "      <td>\n",
       "        'utils'\n",
       "      </td>\n",
       "      \n",
       "      <td>\n",
       "        'datasets'\n",
       "      </td>\n",
       "      \n",
       "      <td>\n",
       "        'methods'\n",
       "      </td>\n",
       "      \n",
       "      <td>\n",
       "        'base'\n",
       "      </td>\n",
       "      \n",
       "      </tr>\n",
       "      </tbody>\n",
       "    </table>\n",
       "    "
      ],
      "text/plain": [
       "R object with classes: ('character',) mapped to:\n",
       "<StrVector - Python:0x000000001C9AC2C8 / R:0x000000001EC42200>\n",
       "['gamsel', 'mda', 'class', 'foreach', ..., 'utils', 'datasets', 'methods', 'base']"
      ]
     },
     "execution_count": 4,
     "metadata": {},
     "output_type": "execute_result"
    }
   ],
   "source": [
    "ro.r('library(dismo)')\n",
    "ro.r('library(raster)')\n",
    "ro.r('library(shapefiles)')\n",
    "#ro.r('library(sf)')"
   ]
  },
  {
   "cell_type": "code",
   "execution_count": 5,
   "metadata": {},
   "outputs": [
    {
     "name": "stderr",
     "output_type": "stream",
     "text": [
      "E:\\spatial\\lib\\site-packages\\pyproj\\crs\\crs.py:53: FutureWarning: '+init=<authority>:<code>' syntax is deprecated. '<authority>:<code>' is the preferred initialization method. When making the change, be mindful of axis order changes: https://pyproj4.github.io/pyproj/stable/gotchas.html#axis-order-changes-in-proj-6\n",
      "  return _prepare_from_string(\" \".join(pjargs))\n"
     ]
    },
    {
     "data": {
      "text/plain": [
       "<AxesSubplot:>"
      ]
     },
     "execution_count": 5,
     "metadata": {},
     "output_type": "execute_result"
    },
    {
     "data": {
      "image/png": "[encoded data removed]",
      "text/plain": [
       "<Figure size 432x288 with 1 Axes>"
      ]
     },
     "metadata": {
      "needs_background": "light"
     },
     "output_type": "display_data"
    }
   ],
   "source": [
    "alty_mcp_polygons=gpd.read_file('alty_mcp_polygon.shp')\n",
    "alty_mcp_polygons.crs=from_epsg(4326)\n",
    "alty_mcp_polygons.plot()"
   ]
  },
  {
   "cell_type": "code",
   "execution_count": 6,
   "metadata": {
    "scrolled": false
   },
   "outputs": [
    {
     "name": "stderr",
     "output_type": "stream",
     "text": [
      "E:\\spatial\\lib\\site-packages\\pyproj\\crs\\crs.py:53: FutureWarning: '+init=<authority>:<code>' syntax is deprecated. '<authority>:<code>' is the preferred initialization method. When making the change, be mindful of axis order changes: https://pyproj4.github.io/pyproj/stable/gotchas.html#axis-order-changes-in-proj-6\n",
      "  return _prepare_from_string(\" \".join(pjargs))\n"
     ]
    },
    {
     "data": {
      "text/plain": [
       "<AxesSubplot:>"
      ]
     },
     "execution_count": 6,
     "metadata": {},
     "output_type": "execute_result"
    },
    {
     "data": {
      "image/png": "[encoded data removed]",
      "text/plain": [
       "<Figure size 432x288 with 1 Axes>"
      ]
     },
     "metadata": {
      "needs_background": "light"
     },
     "output_type": "display_data"
    }
   ],
   "source": [
    "alty_gbif_subsamp=gpd.read_file('alty_gbif_subsamp.shp')\n",
    "alty_gbif_subsamp.crs=from_epsg(4326)\n",
    "alty_gbif_subsamp.plot()"
   ]
  },
  {
   "cell_type": "code",
   "execution_count": 7,
   "metadata": {},
   "outputs": [],
   "source": [
    "import warnings \n",
    "warnings.filterwarnings(action='ignore')"
   ]
  },
  {
   "cell_type": "code",
   "execution_count": 8,
   "metadata": {},
   "outputs": [
    {
     "data": {
      "text/plain": [
       "array([1.7592186e+13])"
      ]
     },
     "execution_count": 8,
     "metadata": {},
     "output_type": "execute_result"
    }
   ],
   "source": [
    "ro.r('memory.limit(size=70000)')"
   ]
  },
  {
   "cell_type": "code",
   "execution_count": 9,
   "metadata": {},
   "outputs": [],
   "source": [
    "def metric(matrix,y_test,p_cap):\n",
    "    a=len(matrix[(matrix.observation==1)&(matrix.model==1)]) #present present\n",
    "    b=len(matrix[(matrix.observation==0)&(matrix.model==1)]) #absent present\n",
    "    c=len(matrix[(matrix.observation==1)&(matrix.model==0)]) #present absent\n",
    "    d=len(matrix[(matrix.observation==0)&(matrix.model==0)]) #absent absent\n",
    "    m=len(matrix)\n",
    "    PCC=(a+d)/m\n",
    "    Kappa=((a+d)-((a+c)*(a+b)+(b+d)*(c+d))/m)/(m-((a+c)*(a+b)+(b+d)*(c+d))/m)\n",
    "    Sensitivity= a/(a+c)\n",
    "    Specificity= d/(b+d)\n",
    "    Precision= a/(a+b)\n",
    "    NPP= d/(c+d)\n",
    "    TSS= (a/(a+c))+(d/(b+d))-1\n",
    "    FPR= b/(b+d)\n",
    "    F_measure= (2*Precision*Sensitivity)/(Precision+Sensitivity)\n",
    "    MCC= (a*d-b*c)/np.sqrt((a+b)*(a+c)*(b+d)*(c+d))\n",
    "    auROC= metrics.roc_auc_score(y_test, p_cap)\n",
    "    Fpr, tpr, thresholds = metrics.roc_curve(y_test, p_cap, pos_label=1)\n",
    "    AUC=metrics.auc(Fpr,tpr)\n",
    "    met=[a,b,c,d,PCC,Kappa,Sensitivity, Specificity, Precision, NPP, TSS, FPR, F_measure, MCC, auROC, AUC]\n",
    "    return(met)\n",
    "    \n",
    "\n",
    "    "
   ]
  },
  {
   "cell_type": "markdown",
   "metadata": {},
   "source": [
    "GAM regularization with SMOTE"
   ]
  },
  {
   "cell_type": "code",
   "execution_count": 10,
   "metadata": {
    "scrolled": true
   },
   "outputs": [],
   "source": [
    "#gamsel\n",
    "accuracy_gamsel =[]; confusion_mat_gamsel =[]; evaluation_mat_gamsel =[]\n",
    "pp =[]; pa =[]; ap =[]; aa =[]; pcc =[]; kappa =[]; sensitivity =[];\n",
    "specificity =[]; precision =[]; npp =[]; tss =[]; fpr =[]\n",
    "fmeasure =[]; mcc =[]; auroc =[]; auc =[]\n",
    "\n",
    "for i in range(100):    \n",
    "    geom_polygons=alty_mcp_polygons['geometry']\n",
    "    geom_union=cascaded_union(geom_polygons)\n",
    "    min_x1, min_y1, max_x1, max_y1=geom_union.bounds\n",
    "    background_points=[]\n",
    "    n=10000\n",
    "    i=0\n",
    "    while i < n:\n",
    "        lons = np.random.uniform(min_x1, max_x1)\n",
    "        lats = np.random.uniform(min_y1, max_y1)\n",
    "        point = Point(lons,lats)\n",
    "        if geom_union.contains(point):\n",
    "            background_points.append(point)\n",
    "            i += 1\n",
    "    lon=[]\n",
    "    lat=[]\n",
    "    for i in range(n):\n",
    "        lon.append(background_points[i].x)\n",
    "        lat.append(background_points[i].y)\n",
    "    data=pd.DataFrame({'lon':lon, 'lat': lat})\n",
    "    len(data)\n",
    "    pandas2ri.activate()\n",
    "    occurrence_data=pd.DataFrame({'Species':np.repeat(1, len(alty_gbif_subsamp.species)),'lon': alty_gbif_subsamp.lon.values, 'lat': alty_gbif_subsamp.lat.values})\n",
    "    background_data=pd.DataFrame({'Species':np.repeat(0, n), 'lon': lon, 'lat': lat})\n",
    "    final_data=occurrence_data.append(background_data, sort=False)\n",
    "    final_data = final_data.set_index([pd.Index(np.arange(0,len(final_data)))])\n",
    "    geometry=[Point(xy) for xy in zip(final_data.lon, final_data.lat)]\n",
    "    crs = CRS.from_epsg(4326)\n",
    "    Species_data = gpd.GeoDataFrame(final_data, crs=crs, geometry = geometry)\n",
    "    Species_data.to_file('Species_data.shp')\n",
    "    Species_data = gpd.read_file('Species_data.shp')\n",
    "    dir_soil = \"C:/Users/admin/Desktop/Alternanthra philoxeroides/soilgrid0-30/\"\n",
    "    layer_0_5 = [\"bdod_0-5cm_mean\",\"cec_0-5cm_mean\",\"cfvo_0-5cm_mean\",\"clay_0-5cm_mean\",\n",
    "                 \"nitrogen_0-5cm_mean\",\"ocd_0-5cm_mean\",\"phh2o_0-5cm_mean\",\"silt_0-5cm_mean\",\n",
    "                 \"soc_0-5cm_mean\"]\n",
    "    layer_5_15 = [\"bdod_5-15cm_mean\",\"cec_5-15cm_mean\",\"cfvo_5-15cm_mean\",\"clay_5-15cm_mean\",\n",
    "                 \"nitrogen_5-15cm_mean\",\"ocd_5-15cm_mean\",\"phh2o_5-15cm_mean\",\"silt_5-15cm_mean\",\n",
    "                 \"soc_5-15cm_mean\"]\n",
    "    layers = [layer_0_5, layer_5_15]\n",
    "    coords = [(x,y) for x,y in zip(Species_data.lon, Species_data.lat)]\n",
    "    for j in range(len(layers)):\n",
    "        for i in range(len(layers[j])):\n",
    "            src = rasterio.open(dir_soil + layers[j][i] + \".tif\")\n",
    "            Species_data[layers[j][i]] = [x[0] for x in src.sample(coords)]\n",
    "    Species_data.columns=['Species', 'lon', 'lat', 'geometry','SQ11','SQ12','SQ13','SQ14',\n",
    "                  'SQ15','SQ16','SQ17','SQ18',\n",
    "                  'SQ19','SQ21','SQ22','SQ23',\n",
    "                  'SQ24','SQ25','SQ26','SQ27',\n",
    "                  'SQ28','SQ29']\n",
    "    Species_data.to_file('species_soil.shp', index=None)\n",
    "    species_soil = gpd.read_file('species_soil.shp')\n",
    "    shapefiles=importr('shapefiles')\n",
    "    shapes=shapefiles.read_dbf(\"species_soil.dbf\")\n",
    "    data2=pd.DataFrame()\n",
    "    data2['1']=np.repeat(1,len(species_soil.Species))\n",
    "    data2[['lon','lat']]=species_soil[['lon','lat']]\n",
    "    data2[['SQ11','SQ12','SQ13','SQ14',\n",
    "                  'SQ15','SQ16','SQ17','SQ18',\n",
    "                  'SQ19','SQ21','SQ22','SQ23',\n",
    "                  'SQ24','SQ25','SQ26','SQ27',\n",
    "                  'SQ28','SQ29']] = species_soil[['SQ11','SQ12','SQ13','SQ14','SQ15','SQ16','SQ17','SQ18',\n",
    "                                                  'SQ19','SQ21','SQ22','SQ23','SQ24','SQ25','SQ26','SQ27','SQ28','SQ29']]\n",
    "    data2['0']=np.repeat(0,len(species_soil.Species))\n",
    "    sp=importr('sp')\n",
    "    geodata=sp.SpatialPointsDataFrame(coords = data2[['lon','lat']], data = data2, proj4string = sp.CRS(\"+proj=longlat +datum=WGS84 +ellps=WGS84 +towgs84=0,0,0\"))\n",
    "    geodata\n",
    "    raster=importr('raster')\n",
    "    bioclim_data_=raster.getData(name=\"worldclim\", download=True, var=\"bio\", res=2.5, path=\"D:/Alien\")\n",
    "    #bioclim_data_=raster.getData(name=\"CMIP5\", download=True, var=\"bio\", res=2.5, rcp=26, model=\"GS\", year=50, path=\"E:/r\")\n",
    "\n",
    "    bioclim_data=raster.extract(bioclim_data_, geodata, method=\"bilinear\")\n",
    "    bio=ro.pandas2ri.ri2py(bioclim_data)\n",
    "    #name=\"worldclim\", download=TRUE, var=\"bio\", res=2.5, path=\"E:/r\"\n",
    "    bioclim=pd.DataFrame(bio, columns=['bio1','bio2','bio3','bio4','bio5','bio6','bio7','bio8','bio9','bio10','bio11','bio12','bio13','bio14','bio15','bio16','bio17','bio18','bio19'])\n",
    "    bioclim.to_csv('bioclimgs_data.csv', index=None)\n",
    "    bioclim=pd.read_csv('bioclimgs_data.csv')#bioclim['Species']=Species_data.Species.values\n",
    "    bioclim[['Species', 'lon', 'lat', 'SQ11','SQ12','SQ13','SQ14',\n",
    "              'SQ15','SQ16','SQ17','SQ18',\n",
    "              'SQ19','SQ21','SQ22','SQ23',\n",
    "              'SQ24','SQ25','SQ26','SQ27',\n",
    "              'SQ28','SQ29']]=species_soil[['Species', 'lon', 'lat', 'SQ11','SQ12','SQ13','SQ14',\n",
    "              'SQ15','SQ16','SQ17','SQ18',\n",
    "              'SQ19','SQ21','SQ22','SQ23',\n",
    "              'SQ24','SQ25','SQ26','SQ27',\n",
    "              'SQ28','SQ29']]\n",
    "    #bioclim=bioclim.drop(labels='Unnamed: 0', axis=1)\n",
    "    bioclim.head()\n",
    "    alty_clim=gpd.GeoDataFrame(bioclim, crs=species_soil.crs, geometry=species_soil.geometry)\n",
    "    alty_clim=alty_clim[['Species', 'lon', 'lat', 'bio1', 'bio2', 'bio3', 'bio4', 'bio5', 'bio6', 'bio7', 'bio8', 'bio9',\n",
    "           'bio10', 'bio11', 'bio12', 'bio13', 'bio14', 'bio15', 'bio16', 'bio17',\n",
    "           'bio18', 'bio19', 'geometry','SQ11','SQ12','SQ13','SQ14',\n",
    "                  'SQ15','SQ16','SQ17','SQ18',\n",
    "                  'SQ19','SQ21','SQ22','SQ23',\n",
    "                  'SQ24','SQ25','SQ26','SQ27',\n",
    "                  'SQ28','SQ29']]\n",
    "    alty_clim=alty_clim.dropna(axis=0)\n",
    "    alty_clim.head()\n",
    "\n",
    "    data=alty_clim\n",
    "    data_n=data.drop(['lon','lat','geometry'], axis=1)\n",
    "    X=data[['bio1', 'bio2', 'bio3', 'bio4', 'bio5', 'bio6', 'bio7', 'bio8', 'bio9', 'bio10', \n",
    "            'bio11', 'bio12', 'bio13', 'bio14', 'bio15', 'bio16', 'bio17','bio18', 'bio19',\n",
    "            'SQ11','SQ12','SQ13','SQ14',\n",
    "                  'SQ15','SQ16','SQ17','SQ18',\n",
    "                  'SQ19','SQ21','SQ22','SQ23',\n",
    "                  'SQ24','SQ25','SQ26','SQ27',\n",
    "                  'SQ28','SQ29']]\n",
    "    y=data[['Species']]\n",
    "    X_train, X_test, y_train, y_test = train_test_split(X, y, test_size=0.30)\n",
    "    \n",
    "    sm = SMOTE(random_state=42)\n",
    "    X_train, y_train = sm.fit_resample(X_train, y_train)\n",
    "    \n",
    "    train_data=X_train; train_data['Species']=y_train;\n",
    "    test_data=X_test; test_data['Species']=y_test;\n",
    "    train_data.to_csv('traingm_data.csv',index=None, header=True)\n",
    "    test_data.to_csv('testgm_data.csv',index=None, header=True)\n",
    "    pandas2ri.deactivate()\n",
    "    data=ro.r('data<-read.csv(\"traingm_data.csv\")')\n",
    "    lib_gamsel=ro.r('library(gamsel)')\n",
    "    X=ro.r('X<-cbind(data$bio1, data$bio2, data$bio3, data$bio4, data$bio5, data$bio6, data$bio7, data$bio8, data$bio9, data$bio10, data$bio11, data$bio12, data$bio13, data$bio14, data$bio15, data$bio16, data$bio17, data$bio18, data$bio19, data$SQ11, data$SQ12, data$SQ13, data$SQ14, data$SQ15, data$SQ16, data$SQ17, data$SQ18, data$SQ19, data$SQ21, data$SQ22, data$SQ23, data$SQ24, data$SQ25, data$SQ26, data$SQ27, data$SQ28, data$SQ29)')\n",
    "    Y=ro.r('Y<-c(data$Species)')\n",
    "\n",
    "    bases=ro.r('bases<-pseudo.bases(X, degree =3, df =3, parallel=FALSE)')\n",
    "    #gamsel=ro.r('gamsel.out<-gamsel(X, Y, num_lambda =50, lambda = NULL, family = \"binomial\", degrees = rep(10, p), gamma = 0.6, dfs = rep(5, p), bases = bases, tol = 1e-01, max_iter = 100, traceit = FALSE, parallel=FALSE)')\n",
    "    gamsel = ro.r('gamsel.out<-cv.gamsel(X, Y, lambda=NULL, family=\"binomial\", degree = rep(10, p), bases = bases, dfs = rep(10, p), type.measure = c(\"mse\", \"mae\", \"deviance\", \"class\"), nfolds = 15)')\n",
    "\n",
    "\n",
    "    test_data=ro.r('test<-read.csv(\"testgm_data.csv\")')\n",
    "    p_cap=ro.r('preds=predict(gamsel.out$gamsel.fit,test[-38],index=50,type=\"response\")')\n",
    "    \n",
    "    \n",
    "    accur=sum(y.values)/len(y.values)\n",
    "    accuracy_gamsel.append(accur)\n",
    "    model=np.zeros(len(X_test))\n",
    "    for i in range(len(X_test)):\n",
    "        if(p_cap[i]>=accur):\n",
    "            model[i]=1\n",
    "        else:\n",
    "            model[i]=0\n",
    "        #matrix= pd.DataFrame({'observation': data['Species'].values, 'predicted prob': p_cap[:,0], 'model': clf.predict(X)})\n",
    "    matrix= pd.DataFrame({'observation': np.ravel(y_test.values), 'predicted prob': np.ravel(p_cap), 'model': model})\n",
    "    [a,b,c,d,PCC,Kappa,Sensitivity,Specificity,Precision,NPP, TSS,FPR,F_measure,MCC,auROC,AUC]=metric(matrix,y_test,np.ravel(p_cap))\n",
    "    pp.append(a); ap.append(b);pa.append(c);aa.append(d)\n",
    "    #print(a,b,c,d)\n",
    "    #condusion matrix\n",
    "    conf_mat=pd.DataFrame({'predicted v /observed >': ['Present', 'Absent'], 'Present': [a,c], 'Absent':[b,d]})\n",
    "    conf_mat.set_index('predicted v /observed >')\n",
    "    confusion_mat_gamsel.append(conf_mat)\n",
    "    pcc.append(PCC); kappa.append(Kappa); sensitivity.append(Sensitivity); specificity.append(Specificity); \n",
    "    precision.append(Precision); npp.append(NPP); tss.append(TSS); fpr.append(FPR); fmeasure.append(F_measure); mcc.append(MCC); \n",
    "    auroc.append(auROC); auc.append(AUC)\n",
    "    #auROC is area under reciever operating curve\n",
    "    modl_eval=[PCC, Kappa, Sensitivity, Specificity, Precision, NPP, TSS, FPR, F_measure, MCC, auROC, AUC]    \n",
    "    modl_name=['PCC', 'Kappa', 'Sensitivity', 'Specificity', 'Precision(or PPP)', 'NPP', 'TSS', 'FPR', 'F measure', 'MCC', 'auROC', 'AUC']\n",
    "    modl_expln=['Percent correctly identified', 'Difference between prediction accuracy and chance agreement', 'Proportion of observed presence correctly predicted', 'Proportion of observed absence correctly predicted', 'proportion of predicted presence correctly predicted', 'proportion of observed presence correctly predicted', 'True skill statistic', 'False positive rate(1 - Specificity)','','Matthews correlation coefficient', 'Area under receiver operating curve', 'Threshold Independent']\n",
    "    #modl_eval=[r'$\\frac{a+d}{n}=$', r'$\\frac{(\\(a+d\\)-\\frac{(\\(a+c\\)\\(a+b\\)+\\(b+d\\)\\(c+d\\))}{n})}{n-\\frac{\\(a+\\c)\\(a+\\b)+\\(b+d\\)\\(c+d\\)}{n}}$', r'$\\frac{a}{a+c}$',r'$\\frac{3}{4} \\binom{3}{4} \\stackrel{3}{4}$', r'$\\frac{3}{4} \\binom{3}{4} \\stackrel{3}{4}$', r'$\\frac{3}{4} \\binom{3}{4} \\stackrel{3}{4}$', r'$\\frac{3}{4} \\binom{3}{4} \\stackrel{3}{4}$', r'$\\frac{3}{4} \\binom{3}{4} \\stackrel{3}{4}$', r'$\\frac{3}{4} \\binom{3}{4} \\stackrel{3}{4}$', r'$\\frac{3}{4} \\binom{3}{4} \\stackrel{3}{4}$', r'$\\frac{3}{4} \\binom{3}{4} \\stackrel{3}{4}$', r'$\\frac{3}{4} \\binom{3}{4} \\stackrel{3}{4}$']\n",
    "    evalu=pd.DataFrame({'model name': modl_name, ' Explanation': modl_expln, 'Evaluation': modl_eval})\n",
    "    evaluation_mat_gamsel.append(evalu)\n",
    "    \n",
    "#evaluation_mat_gamsel\n",
    "gamsel_data=pd.DataFrame({'accuracy':accuracy_gamsel, 'present/present':pp, 'present/absent':pa, 'absent/present':ap,'absent/absent': aa, 'pcc':pcc,'kappa':kappa,'sensitivity':sensitivity,'specificity':specificity,'precision':precision,'npp':npp,'tss':tss,'fpr':fpr,'fmeasure':fmeasure,'mcc':mcc,'auroc':auroc,'auc':auc})\n",
    "gamsel_data.to_csv('gamsels_data.csv')"
   ]
  },
  {
   "cell_type": "markdown",
   "metadata": {},
   "source": [
    "GAM Regularization without SMOTE"
   ]
  },
  {
   "cell_type": "code",
   "execution_count": 11,
   "metadata": {},
   "outputs": [],
   "source": [
    "#gamsel\n",
    "accuracy_gamsel =[]; confusion_mat_gamsel =[]; evaluation_mat_gamsel =[]\n",
    "pp =[]; pa =[]; ap =[]; aa =[]; pcc =[]; kappa =[]; sensitivity =[];\n",
    "specificity =[]; precision =[]; npp =[]; tss =[]; fpr =[]\n",
    "fmeasure =[]; mcc =[]; auroc =[]; auc =[]\n",
    "\n",
    "for i in range(100):    \n",
    "    geom_polygons=alty_mcp_polygons['geometry']\n",
    "    geom_union=cascaded_union(geom_polygons)\n",
    "    min_x1, min_y1, max_x1, max_y1=geom_union.bounds\n",
    "    background_points=[]\n",
    "    n=10000\n",
    "    i=0\n",
    "    while i < n:\n",
    "        lons = np.random.uniform(min_x1, max_x1)\n",
    "        lats = np.random.uniform(min_y1, max_y1)\n",
    "        point = Point(lons,lats)\n",
    "        if geom_union.contains(point):\n",
    "            background_points.append(point)\n",
    "            i += 1\n",
    "    lon=[]\n",
    "    lat=[]\n",
    "    for i in range(n):\n",
    "        lon.append(background_points[i].x)\n",
    "        lat.append(background_points[i].y)\n",
    "    data=pd.DataFrame({'lon':lon, 'lat': lat})\n",
    "    len(data)\n",
    "    pandas2ri.activate()\n",
    "    occurrence_data=pd.DataFrame({'Species':np.repeat(1, len(alty_gbif_subsamp.species)),'lon': alty_gbif_subsamp.lon.values, 'lat': alty_gbif_subsamp.lat.values})\n",
    "    background_data=pd.DataFrame({'Species':np.repeat(0, n), 'lon': lon, 'lat': lat})\n",
    "    final_data=occurrence_data.append(background_data, sort=False)\n",
    "    final_data = final_data.set_index([pd.Index(np.arange(0,len(final_data)))])\n",
    "    geometry=[Point(xy) for xy in zip(final_data.lon, final_data.lat)]\n",
    "    crs = CRS.from_epsg(4326)\n",
    "    Species_data = gpd.GeoDataFrame(final_data, crs=crs, geometry = geometry)\n",
    "    Species_data.to_file('Species_data.shp')\n",
    "    Species_data = gpd.read_file('Species_data.shp')\n",
    "    dir_soil = \"C:/Users/admin/Desktop/Alternanthra philoxeroides/soilgrid0-30/\"\n",
    "    layer_0_5 = [\"bdod_0-5cm_mean\",\"cec_0-5cm_mean\",\"cfvo_0-5cm_mean\",\"clay_0-5cm_mean\",\n",
    "                 \"nitrogen_0-5cm_mean\",\"ocd_0-5cm_mean\",\"phh2o_0-5cm_mean\",\"silt_0-5cm_mean\",\n",
    "                 \"soc_0-5cm_mean\"]\n",
    "    layer_5_15 = [\"bdod_5-15cm_mean\",\"cec_5-15cm_mean\",\"cfvo_5-15cm_mean\",\"clay_5-15cm_mean\",\n",
    "                 \"nitrogen_5-15cm_mean\",\"ocd_5-15cm_mean\",\"phh2o_5-15cm_mean\",\"silt_5-15cm_mean\",\n",
    "                 \"soc_5-15cm_mean\"]\n",
    "    layers = [layer_0_5, layer_5_15]\n",
    "    coords = [(x,y) for x,y in zip(Species_data.lon, Species_data.lat)]\n",
    "    for j in range(len(layers)):\n",
    "        for i in range(len(layers[j])):\n",
    "            src = rasterio.open(dir_soil + layers[j][i] + \".tif\")\n",
    "            Species_data[layers[j][i]] = [x[0] for x in src.sample(coords)]\n",
    "    Species_data.columns=['Species', 'lon', 'lat', 'geometry','SQ11','SQ12','SQ13','SQ14',\n",
    "                  'SQ15','SQ16','SQ17','SQ18',\n",
    "                  'SQ19','SQ21','SQ22','SQ23',\n",
    "                  'SQ24','SQ25','SQ26','SQ27',\n",
    "                  'SQ28','SQ29']\n",
    "    Species_data.to_file('species_soil.shp', index=None)\n",
    "    species_soil = gpd.read_file('species_soil.shp')\n",
    "    shapefiles=importr('shapefiles')\n",
    "    shapes=shapefiles.read_dbf(\"species_soil.dbf\")\n",
    "    data2=pd.DataFrame()\n",
    "    data2['1']=np.repeat(1,len(species_soil.Species))\n",
    "    data2[['lon','lat']]=species_soil[['lon','lat']]\n",
    "    data2[['SQ11','SQ12','SQ13','SQ14',\n",
    "                  'SQ15','SQ16','SQ17','SQ18',\n",
    "                  'SQ19','SQ21','SQ22','SQ23',\n",
    "                  'SQ24','SQ25','SQ26','SQ27',\n",
    "                  'SQ28','SQ29']] = species_soil[['SQ11','SQ12','SQ13','SQ14','SQ15','SQ16','SQ17','SQ18',\n",
    "                                                  'SQ19','SQ21','SQ22','SQ23','SQ24','SQ25','SQ26','SQ27','SQ28','SQ29']]\n",
    "    data2['0']=np.repeat(0,len(species_soil.Species))\n",
    "    sp=importr('sp')\n",
    "    geodata=sp.SpatialPointsDataFrame(coords = data2[['lon','lat']], data = data2, proj4string = sp.CRS(\"+proj=longlat +datum=WGS84 +ellps=WGS84 +towgs84=0,0,0\"))\n",
    "    geodata\n",
    "    raster=importr('raster')\n",
    "    bioclim_data_=raster.getData(name=\"worldclim\", download=True, var=\"bio\", res=2.5, path=\"D:/Alien\")\n",
    "    #bioclim_data_=raster.getData(name=\"CMIP5\", download=True, var=\"bio\", res=2.5, rcp=26, model=\"GS\", year=50, path=\"E:/r\")\n",
    "\n",
    "    bioclim_data=raster.extract(bioclim_data_, geodata, method=\"bilinear\")\n",
    "    bio=ro.pandas2ri.ri2py(bioclim_data)\n",
    "    #name=\"worldclim\", download=TRUE, var=\"bio\", res=2.5, path=\"E:/r\"\n",
    "    bioclim=pd.DataFrame(bio, columns=['bio1','bio2','bio3','bio4','bio5','bio6','bio7','bio8','bio9','bio10','bio11','bio12','bio13','bio14','bio15','bio16','bio17','bio18','bio19'])\n",
    "    bioclim.to_csv('bioclimgs_data.csv', index=None)\n",
    "    bioclim=pd.read_csv('bioclimgs_data.csv')#bioclim['Species']=Species_data.Species.values\n",
    "    bioclim[['Species', 'lon', 'lat', 'SQ11','SQ12','SQ13','SQ14',\n",
    "              'SQ15','SQ16','SQ17','SQ18',\n",
    "              'SQ19','SQ21','SQ22','SQ23',\n",
    "              'SQ24','SQ25','SQ26','SQ27',\n",
    "              'SQ28','SQ29']]=species_soil[['Species', 'lon', 'lat', 'SQ11','SQ12','SQ13','SQ14',\n",
    "              'SQ15','SQ16','SQ17','SQ18',\n",
    "              'SQ19','SQ21','SQ22','SQ23',\n",
    "              'SQ24','SQ25','SQ26','SQ27',\n",
    "              'SQ28','SQ29']]\n",
    "    #bioclim=bioclim.drop(labels='Unnamed: 0', axis=1)\n",
    "    bioclim.head()\n",
    "    alty_clim=gpd.GeoDataFrame(bioclim, crs=species_soil.crs, geometry=species_soil.geometry)\n",
    "    alty_clim=alty_clim[['Species', 'lon', 'lat', 'bio1', 'bio2', 'bio3', 'bio4', 'bio5', 'bio6', 'bio7', 'bio8', 'bio9',\n",
    "           'bio10', 'bio11', 'bio12', 'bio13', 'bio14', 'bio15', 'bio16', 'bio17',\n",
    "           'bio18', 'bio19', 'geometry','SQ11','SQ12','SQ13','SQ14',\n",
    "                  'SQ15','SQ16','SQ17','SQ18',\n",
    "                  'SQ19','SQ21','SQ22','SQ23',\n",
    "                  'SQ24','SQ25','SQ26','SQ27',\n",
    "                  'SQ28','SQ29']]\n",
    "    alty_clim=alty_clim.dropna(axis=0)\n",
    "    alty_clim.head()\n",
    "\n",
    "    data=alty_clim\n",
    "    data_n=data.drop(['lon','lat','geometry'], axis=1)\n",
    "    X=data[['bio1', 'bio2', 'bio3', 'bio4', 'bio5', 'bio6', 'bio7', 'bio8', 'bio9', 'bio10', \n",
    "            'bio11', 'bio12', 'bio13', 'bio14', 'bio15', 'bio16', 'bio17','bio18', 'bio19',\n",
    "            'SQ11','SQ12','SQ13','SQ14',\n",
    "                  'SQ15','SQ16','SQ17','SQ18',\n",
    "                  'SQ19','SQ21','SQ22','SQ23',\n",
    "                  'SQ24','SQ25','SQ26','SQ27',\n",
    "                  'SQ28','SQ29']]\n",
    "    y=data[['Species']]\n",
    "    X_train, X_test, y_train, y_test = train_test_split(X, y, test_size=0.30)\n",
    "    \n",
    "    train_data=X_train; train_data['Species']=y_train;\n",
    "    test_data=X_test; test_data['Species']=y_test;\n",
    "    train_data.to_csv('traingm_data.csv',index=None, header=True)\n",
    "    test_data.to_csv('testgm_data.csv',index=None, header=True)\n",
    "    pandas2ri.deactivate()\n",
    "    data=ro.r('data<-read.csv(\"traingm_data.csv\")')\n",
    "    lib_gamsel=ro.r('library(gamsel)')\n",
    "    X=ro.r('X<-cbind(data$bio1, data$bio2, data$bio3, data$bio4, data$bio5, data$bio6, data$bio7, data$bio8, data$bio9, data$bio10, data$bio11, data$bio12, data$bio13, data$bio14, data$bio15, data$bio16, data$bio17, data$bio18, data$bio19, data$SQ11, data$SQ12, data$SQ13, data$SQ14, data$SQ15, data$SQ16, data$SQ17, data$SQ18, data$SQ19, data$SQ21, data$SQ22, data$SQ23, data$SQ24, data$SQ25, data$SQ26, data$SQ27, data$SQ28, data$SQ29)')\n",
    "    Y=ro.r('Y<-c(data$Species)')\n",
    "\n",
    "    bases=ro.r('bases<-pseudo.bases(X, degree =3, df =3, parallel=FALSE)')\n",
    "    #gamsel=ro.r('gamsel.out<-gamsel(X, Y, num_lambda =50, lambda = NULL, family = \"binomial\", degrees = rep(10, p), gamma = 0.6, dfs = rep(5, p), bases = bases, tol = 1e-01, max_iter = 100, traceit = FALSE, parallel=FALSE)')\n",
    "    gamsel = ro.r('gamsel.out<-cv.gamsel(X, Y, lambda=NULL, family=\"binomial\", degree = rep(10, p), bases = bases, dfs = rep(10, p), type.measure = c(\"mse\", \"mae\", \"deviance\", \"class\"), nfolds = 15)')\n",
    "\n",
    "\n",
    "    test_data=ro.r('test<-read.csv(\"testgm_data.csv\")')\n",
    "    p_cap=ro.r('preds=predict(gamsel.out$gamsel.fit,test[-38],index=50,type=\"response\")')\n",
    "    \n",
    "    \n",
    "    accur=sum(y.values)/len(y.values)\n",
    "    accuracy_gamsel.append(accur)\n",
    "    model=np.zeros(len(X_test))\n",
    "    for i in range(len(X_test)):\n",
    "        if(p_cap[i]>=accur):\n",
    "            model[i]=1\n",
    "        else:\n",
    "            model[i]=0\n",
    "        #matrix= pd.DataFrame({'observation': data['Species'].values, 'predicted prob': p_cap[:,0], 'model': clf.predict(X)})\n",
    "    matrix= pd.DataFrame({'observation': np.ravel(y_test.values), 'predicted prob': np.ravel(p_cap), 'model': model})\n",
    "    [a,b,c,d,PCC,Kappa,Sensitivity,Specificity,Precision,NPP, TSS,FPR,F_measure,MCC,auROC,AUC]=metric(matrix,y_test,np.ravel(p_cap))\n",
    "    pp.append(a); ap.append(b);pa.append(c);aa.append(d)\n",
    "    #print(a,b,c,d)\n",
    "    #condusion matrix\n",
    "    conf_mat=pd.DataFrame({'predicted v /observed >': ['Present', 'Absent'], 'Present': [a,c], 'Absent':[b,d]})\n",
    "    conf_mat.set_index('predicted v /observed >')\n",
    "    confusion_mat_gamsel.append(conf_mat)\n",
    "    pcc.append(PCC); kappa.append(Kappa); sensitivity.append(Sensitivity); specificity.append(Specificity); \n",
    "    precision.append(Precision); npp.append(NPP); tss.append(TSS); fpr.append(FPR); fmeasure.append(F_measure); mcc.append(MCC); \n",
    "    auroc.append(auROC); auc.append(AUC)\n",
    "    #auROC is area under reciever operating curve\n",
    "    modl_eval=[PCC, Kappa, Sensitivity, Specificity, Precision, NPP, TSS, FPR, F_measure, MCC, auROC, AUC]    \n",
    "    modl_name=['PCC', 'Kappa', 'Sensitivity', 'Specificity', 'Precision(or PPP)', 'NPP', 'TSS', 'FPR', 'F measure', 'MCC', 'auROC', 'AUC']\n",
    "    modl_expln=['Percent correctly identified', 'Difference between prediction accuracy and chance agreement', 'Proportion of observed presence correctly predicted', 'Proportion of observed absence correctly predicted', 'proportion of predicted presence correctly predicted', 'proportion of observed presence correctly predicted', 'True skill statistic', 'False positive rate(1 - Specificity)','','Matthews correlation coefficient', 'Area under receiver operating curve', 'Threshold Independent']\n",
    "    #modl_eval=[r'$\\frac{a+d}{n}=$', r'$\\frac{(\\(a+d\\)-\\frac{(\\(a+c\\)\\(a+b\\)+\\(b+d\\)\\(c+d\\))}{n})}{n-\\frac{\\(a+\\c)\\(a+\\b)+\\(b+d\\)\\(c+d\\)}{n}}$', r'$\\frac{a}{a+c}$',r'$\\frac{3}{4} \\binom{3}{4} \\stackrel{3}{4}$', r'$\\frac{3}{4} \\binom{3}{4} \\stackrel{3}{4}$', r'$\\frac{3}{4} \\binom{3}{4} \\stackrel{3}{4}$', r'$\\frac{3}{4} \\binom{3}{4} \\stackrel{3}{4}$', r'$\\frac{3}{4} \\binom{3}{4} \\stackrel{3}{4}$', r'$\\frac{3}{4} \\binom{3}{4} \\stackrel{3}{4}$', r'$\\frac{3}{4} \\binom{3}{4} \\stackrel{3}{4}$', r'$\\frac{3}{4} \\binom{3}{4} \\stackrel{3}{4}$', r'$\\frac{3}{4} \\binom{3}{4} \\stackrel{3}{4}$']\n",
    "    evalu=pd.DataFrame({'model name': modl_name, ' Explanation': modl_expln, 'Evaluation': modl_eval})\n",
    "    evaluation_mat_gamsel.append(evalu)\n",
    "    \n",
    "#evaluation_mat_gamsel\n",
    "gamsel_data=pd.DataFrame({'accuracy':accuracy_gamsel, 'present/present':pp, 'present/absent':pa, 'absent/present':ap,'absent/absent': aa, 'pcc':pcc,'kappa':kappa,'sensitivity':sensitivity,'specificity':specificity,'precision':precision,'npp':npp,'tss':tss,'fpr':fpr,'fmeasure':fmeasure,'mcc':mcc,'auroc':auroc,'auc':auc})\n",
    "gamsel_data.to_csv('gamsel_data.csv')"
   ]
  }
 ],
 "metadata": {
  "kernelspec": {
   "display_name": "Python 3",
   "language": "python",
   "name": "python3"
  },
  "language_info": {
   "codemirror_mode": {
    "name": "ipython",
    "version": 3
   },
   "file_extension": ".py",
   "mimetype": "text/x-python",
   "name": "python",
   "nbconvert_exporter": "python",
   "pygments_lexer": "ipython3",
   "version": "3.7.6"
  }
 },
 "nbformat": 4,
 "nbformat_minor": 2
}
